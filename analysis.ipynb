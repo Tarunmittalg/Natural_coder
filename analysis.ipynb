{
 "cells": [
  {
   "cell_type": "code",
   "execution_count": 2,
   "metadata": {},
   "outputs": [],
   "source": [
    "import pandas as pd\n",
    "import matplotlib.pyplot \n",
    "l_up=[]\n",
    "l_down=[]\n",
    "l_year=[]\n",
    "per_up=[]\n",
    "per_down=[]\n",
    "l_total=[]\n",
    "for j in range(2003,2019):\n",
    "    data = pd.read_csv(str(j)+\".csv\")\n",
    "    l=[]\n",
    "    for i in range(len(data.index)):\n",
    "        if(data.loc[i,\"Open\"]>data.loc[i,\"Close\"]):\n",
    "            v=-1\n",
    "        else:\n",
    "            v=1\n",
    "        l.append(v)\n",
    "    l_up.append(l.count(1))\n",
    "    per_up.append((l.count(1)/len(l))*100) #Total=len(l)\n",
    "    per_down.append((l.count(-1)/len(l))*100) #Total=len(l)\n",
    "    l_total.append(len(l))\n",
    "    l_down.append(l.count(-1))\n",
    "    l_year.append(j)\n",
    "df = pd.DataFrame(l_year,columns=[\"Year\"])\n",
    "df.insert(1,\"Up\",l_up, True)\n",
    "df.insert(2,\"%age(up)\",per_up, True)\n",
    "df.insert(3,\"Down\",l_down, True)\n",
    "df.insert(4,\"%age(down)\",per_down, True)\n",
    "df.insert(5,\"Total\",l_total, True)\n",
    "\n",
    "\n",
    "df.loc[16] = ['Total', sum(l_up), sum(l_up)/sum(l_total)*100, sum(l_down),sum(l_down)/sum(l_total)*100,sum(l_total)]\n",
    "\n"
   ]
  },
  {
   "cell_type": "code",
   "execution_count": 3,
   "metadata": {},
   "outputs": [
    {
     "data": {
      "text/html": [
       "<div>\n",
       "<style scoped>\n",
       "    .dataframe tbody tr th:only-of-type {\n",
       "        vertical-align: middle;\n",
       "    }\n",
       "\n",
       "    .dataframe tbody tr th {\n",
       "        vertical-align: top;\n",
       "    }\n",
       "\n",
       "    .dataframe thead th {\n",
       "        text-align: right;\n",
       "    }\n",
       "</style>\n",
       "<table border=\"1\" class=\"dataframe\">\n",
       "  <thead>\n",
       "    <tr style=\"text-align: right;\">\n",
       "      <th></th>\n",
       "      <th>Year</th>\n",
       "      <th>Up</th>\n",
       "      <th>%age(up)</th>\n",
       "      <th>Down</th>\n",
       "      <th>%age(down)</th>\n",
       "      <th>Total</th>\n",
       "    </tr>\n",
       "  </thead>\n",
       "  <tbody>\n",
       "    <tr>\n",
       "      <th>0</th>\n",
       "      <td>2003</td>\n",
       "      <td>152</td>\n",
       "      <td>59.842520</td>\n",
       "      <td>102</td>\n",
       "      <td>40.157480</td>\n",
       "      <td>254</td>\n",
       "    </tr>\n",
       "    <tr>\n",
       "      <th>1</th>\n",
       "      <td>2004</td>\n",
       "      <td>138</td>\n",
       "      <td>54.545455</td>\n",
       "      <td>115</td>\n",
       "      <td>45.454545</td>\n",
       "      <td>253</td>\n",
       "    </tr>\n",
       "    <tr>\n",
       "      <th>2</th>\n",
       "      <td>2005</td>\n",
       "      <td>141</td>\n",
       "      <td>56.175299</td>\n",
       "      <td>110</td>\n",
       "      <td>43.824701</td>\n",
       "      <td>251</td>\n",
       "    </tr>\n",
       "    <tr>\n",
       "      <th>3</th>\n",
       "      <td>2006</td>\n",
       "      <td>150</td>\n",
       "      <td>60.000000</td>\n",
       "      <td>100</td>\n",
       "      <td>40.000000</td>\n",
       "      <td>250</td>\n",
       "    </tr>\n",
       "    <tr>\n",
       "      <th>4</th>\n",
       "      <td>2007</td>\n",
       "      <td>137</td>\n",
       "      <td>55.020080</td>\n",
       "      <td>112</td>\n",
       "      <td>44.979920</td>\n",
       "      <td>249</td>\n",
       "    </tr>\n",
       "    <tr>\n",
       "      <th>5</th>\n",
       "      <td>2008</td>\n",
       "      <td>115</td>\n",
       "      <td>46.938776</td>\n",
       "      <td>130</td>\n",
       "      <td>53.061224</td>\n",
       "      <td>245</td>\n",
       "    </tr>\n",
       "    <tr>\n",
       "      <th>6</th>\n",
       "      <td>2009</td>\n",
       "      <td>131</td>\n",
       "      <td>53.909465</td>\n",
       "      <td>112</td>\n",
       "      <td>46.090535</td>\n",
       "      <td>243</td>\n",
       "    </tr>\n",
       "    <tr>\n",
       "      <th>7</th>\n",
       "      <td>2010</td>\n",
       "      <td>131</td>\n",
       "      <td>51.984127</td>\n",
       "      <td>121</td>\n",
       "      <td>48.015873</td>\n",
       "      <td>252</td>\n",
       "    </tr>\n",
       "    <tr>\n",
       "      <th>8</th>\n",
       "      <td>2011</td>\n",
       "      <td>105</td>\n",
       "      <td>42.510121</td>\n",
       "      <td>142</td>\n",
       "      <td>57.489879</td>\n",
       "      <td>247</td>\n",
       "    </tr>\n",
       "    <tr>\n",
       "      <th>9</th>\n",
       "      <td>2012</td>\n",
       "      <td>120</td>\n",
       "      <td>48.000000</td>\n",
       "      <td>130</td>\n",
       "      <td>52.000000</td>\n",
       "      <td>250</td>\n",
       "    </tr>\n",
       "    <tr>\n",
       "      <th>10</th>\n",
       "      <td>2013</td>\n",
       "      <td>122</td>\n",
       "      <td>48.800000</td>\n",
       "      <td>128</td>\n",
       "      <td>51.200000</td>\n",
       "      <td>250</td>\n",
       "    </tr>\n",
       "    <tr>\n",
       "      <th>11</th>\n",
       "      <td>2014</td>\n",
       "      <td>114</td>\n",
       "      <td>46.721311</td>\n",
       "      <td>130</td>\n",
       "      <td>53.278689</td>\n",
       "      <td>244</td>\n",
       "    </tr>\n",
       "    <tr>\n",
       "      <th>12</th>\n",
       "      <td>2015</td>\n",
       "      <td>112</td>\n",
       "      <td>45.161290</td>\n",
       "      <td>136</td>\n",
       "      <td>54.838710</td>\n",
       "      <td>248</td>\n",
       "    </tr>\n",
       "    <tr>\n",
       "      <th>13</th>\n",
       "      <td>2016</td>\n",
       "      <td>105</td>\n",
       "      <td>42.510121</td>\n",
       "      <td>142</td>\n",
       "      <td>57.489879</td>\n",
       "      <td>247</td>\n",
       "    </tr>\n",
       "    <tr>\n",
       "      <th>14</th>\n",
       "      <td>2017</td>\n",
       "      <td>109</td>\n",
       "      <td>43.951613</td>\n",
       "      <td>139</td>\n",
       "      <td>56.048387</td>\n",
       "      <td>248</td>\n",
       "    </tr>\n",
       "    <tr>\n",
       "      <th>15</th>\n",
       "      <td>2018</td>\n",
       "      <td>115</td>\n",
       "      <td>46.747967</td>\n",
       "      <td>131</td>\n",
       "      <td>53.252033</td>\n",
       "      <td>246</td>\n",
       "    </tr>\n",
       "    <tr>\n",
       "      <th>16</th>\n",
       "      <td>Total</td>\n",
       "      <td>1997</td>\n",
       "      <td>50.213729</td>\n",
       "      <td>1980</td>\n",
       "      <td>49.786271</td>\n",
       "      <td>3977</td>\n",
       "    </tr>\n",
       "  </tbody>\n",
       "</table>\n",
       "</div>"
      ],
      "text/plain": [
       "     Year    Up   %age(up)  Down  %age(down)  Total\n",
       "0    2003   152  59.842520   102   40.157480    254\n",
       "1    2004   138  54.545455   115   45.454545    253\n",
       "2    2005   141  56.175299   110   43.824701    251\n",
       "3    2006   150  60.000000   100   40.000000    250\n",
       "4    2007   137  55.020080   112   44.979920    249\n",
       "5    2008   115  46.938776   130   53.061224    245\n",
       "6    2009   131  53.909465   112   46.090535    243\n",
       "7    2010   131  51.984127   121   48.015873    252\n",
       "8    2011   105  42.510121   142   57.489879    247\n",
       "9    2012   120  48.000000   130   52.000000    250\n",
       "10   2013   122  48.800000   128   51.200000    250\n",
       "11   2014   114  46.721311   130   53.278689    244\n",
       "12   2015   112  45.161290   136   54.838710    248\n",
       "13   2016   105  42.510121   142   57.489879    247\n",
       "14   2017   109  43.951613   139   56.048387    248\n",
       "15   2018   115  46.747967   131   53.252033    246\n",
       "16  Total  1997  50.213729  1980   49.786271   3977"
      ]
     },
     "execution_count": 3,
     "metadata": {},
     "output_type": "execute_result"
    }
   ],
   "source": [
    "\n",
    "df"
   ]
  },
  {
   "cell_type": "code",
   "execution_count": 4,
   "metadata": {},
   "outputs": [
    {
     "data": {
      "text/plain": [
       "<matplotlib.axes._subplots.AxesSubplot at 0x2324156fc50>"
      ]
     },
     "execution_count": 4,
     "metadata": {},
     "output_type": "execute_result"
    },
    {
     "data": {
      "image/png": "[encoded data removed]",
      "text/plain": [
       "<Figure size 432x288 with 1 Axes>"
      ]
     },
     "metadata": {
      "needs_background": "light"
     },
     "output_type": "display_data"
    }
   ],
   "source": [
    "data=pd.DataFrame({'Up':l_up,'Down':l_down,'Total':l_total},index=l_year)\n",
    "data.plot.bar()"
   ]
  },
  {
   "cell_type": "code",
   "execution_count": 5,
   "metadata": {},
   "outputs": [
    {
     "data": {
      "text/plain": [
       "<matplotlib.axes._subplots.AxesSubplot at 0x2324c5e4128>"
      ]
     },
     "execution_count": 5,
     "metadata": {},
     "output_type": "execute_result"
    },
    {
     "data": {
      "image/png": "[encoded data removed]",
      "text/plain": [
       "<Figure size 432x288 with 1 Axes>"
      ]
     },
     "metadata": {
      "needs_background": "light"
     },
     "output_type": "display_data"
    }
   ],
   "source": [
    "data=pd.DataFrame({'%(up)':per_up,'%(Down)':per_down},index=l_year)\n",
    "data.plot.bar()"
   ]
  },
  {
   "cell_type": "code",
   "execution_count": 6,
   "metadata": {},
   "outputs": [
    {
     "name": "stdout",
     "output_type": "stream",
     "text": [
      "2003\n",
      "1750.0549999999998\n",
      "2004\n",
      "2035.81\n",
      "2005\n",
      "2811.3450000000003\n",
      "2006\n",
      "3925.16\n",
      "2007\n",
      "5991.53\n",
      "2008\n",
      "6217.94\n",
      "2009\n",
      "5092.16\n",
      "2010\n",
      "6211.17\n",
      "2011\n",
      "5912.325\n",
      "2012\n",
      "5892.6050000000005\n",
      "2013\n",
      "6253.780000000001\n",
      "2014\n",
      "8493.8\n",
      "2015\n",
      "8830.775\n",
      "2016\n",
      "8789.175\n",
      "2017\n",
      "10363.745\n",
      "2018\n",
      "11619.91\n"
     ]
    }
   ],
   "source": [
    "def simple_avg(l):\n",
    "    count=0\n",
    "    i=0\n",
    "    s=[0]*(len(l)//10)\n",
    "    for j in range(len(l)-len(l)%10):\n",
    "        count=count+1\n",
    "        s[i]=s[i]+l[j]\n",
    "        if(count%10==0):\n",
    "            i=i+1\n",
    "    for j in range(len(s)):\n",
    "        s[j]=s[j]/10\n",
    "    #print(len(l)-len(l)%10)\n",
    "    print(max(s))\n",
    "\n",
    "for j in range(2003,2019):\n",
    "    o=[]\n",
    "    c=[]\n",
    "    h=[]\n",
    "    l=[]\n",
    "    data = pd.read_csv(str(j)+\".csv\")\n",
    "    for i in range(len(data.index)):\n",
    "        '''if(data.loc[i,\"Open\"]>data.loc[i,\"Close\"]):\n",
    "            v=-1\n",
    "        else:\n",
    "            v=1'''\n",
    "        c.append(data.loc[i,\"Close\"])\n",
    "        o.append(data.loc[i,\"Open\"])\n",
    "        h.append(data.loc[i,\"High\"])\n",
    "        l.append(data.loc[i,\"Low\"])\n",
    "    print(j)\n",
    "    simple_avg(c)"
   ]
  },
  {
   "cell_type": "code",
   "execution_count": 7,
   "metadata": {},
   "outputs": [
    {
     "name": "stdout",
     "output_type": "stream",
     "text": [
      "2003\n",
      "250\n",
      "1768.83\n",
      "2004\n",
      "250\n",
      "2043.878181818182\n",
      "2005\n",
      "250\n",
      "2806.0227272727275\n",
      "2006\n",
      "250\n",
      "3938.66\n",
      "2007\n",
      "240\n",
      "6032.92090909091\n",
      "2008\n",
      "240\n",
      "6223.401818181819\n",
      "2009\n",
      "240\n",
      "5112.41909090909\n",
      "2010\n",
      "250\n",
      "6201.004545454545\n",
      "2011\n",
      "240\n",
      "5865.273636363636\n",
      "2012\n",
      "250\n",
      "5891.82\n",
      "2013\n",
      "250\n",
      "6278.6509090909085\n",
      "2014\n",
      "240\n",
      "8461.977272727272\n",
      "2015\n",
      "240\n",
      "8819.228181818182\n",
      "2016\n",
      "240\n",
      "8838.437272727273\n",
      "2017\n",
      "240\n",
      "10400.29909090909\n",
      "2018\n",
      "240\n",
      "11602.210909090909\n"
     ]
    }
   ],
   "source": [
    "def weighted_avg(l):\n",
    "    count=0\n",
    "    i=0\n",
    "    s=[0]*(len(l)//10)\n",
    "    for j in range(len(l)-len(l)%10):\n",
    "        count=count+1\n",
    "        s[i]=s[i]+(l[j])*(j%10+1)\n",
    "        if(count%10==0):\n",
    "            i=i+1\n",
    "    for j in range(len(s)):\n",
    "        s[j]=s[j]/55\n",
    "    print(len(l)-len(l)%10)\n",
    "    print(max(s))\n",
    "    \n",
    "for j in range(2003,2019):\n",
    "    c=[]\n",
    "    data = pd.read_csv(str(j)+\".csv\")\n",
    "    for i in range(len(data.index)):\n",
    "        '''if(data.loc[i,\"Open\"]>data.loc[i,\"Close\"]):\n",
    "            v=-1\n",
    "        else:\n",
    "            v=1'''\n",
    "        c.append(data.loc[i,\"Close\"])\n",
    "    print(j)\n",
    "    weighted_avg(c)"
   ]
  },
  {
   "cell_type": "code",
   "execution_count": 8,
   "metadata": {},
   "outputs": [
    {
     "name": "stdout",
     "output_type": "stream",
     "text": [
      "2003\n",
      "250\n",
      "118.5\n",
      "2004\n",
      "250\n",
      "128.29999999999995\n",
      "2005\n",
      "250\n",
      "201.0\n",
      "2006\n",
      "250\n",
      "310.39999999999964\n",
      "2007\n",
      "240\n",
      "748.3999999999996\n",
      "2008\n",
      "240\n",
      "362.4499999999998\n",
      "2009\n",
      "240\n",
      "590.1999999999998\n",
      "2010\n",
      "250\n",
      "403.5\n",
      "2011\n",
      "240\n",
      "356.15000000000055\n",
      "2012\n",
      "250\n",
      "338.6999999999998\n",
      "2013\n",
      "250\n",
      "451.34999999999945\n",
      "2014\n",
      "240\n",
      "412.35000000000036\n",
      "2015\n",
      "240\n",
      "458.2000000000007\n",
      "2016\n",
      "240\n",
      "551.6999999999998\n",
      "2017\n",
      "240\n",
      "294.7999999999993\n",
      "2018\n",
      "240\n",
      "388.85000000000036\n"
     ]
    }
   ],
   "source": [
    "def momentum(l):\n",
    "    count=0\n",
    "    i=0\n",
    "    k=0\n",
    "    s=[0]*(len(l)//10)\n",
    "    for j in range(len(l)-len(l)%10):\n",
    "        count=count+1\n",
    "        if(count%10==0):\n",
    "            k=k+1\n",
    "        elif((count-1)%10==0):\n",
    "            k=k+1\n",
    "        if(k%2==0):\n",
    "            s[i]=s[i]+(l[j]-l[j-9])\n",
    "        if(count%10==0):\n",
    "            i=i+1\n",
    "    print(len(l)-len(l)%10)\n",
    "    print(max(s))\n",
    "    \n",
    "for j in range(2003,2019):\n",
    "    c=[]\n",
    "    data = pd.read_csv(str(j)+\".csv\")\n",
    "    for i in range(len(data.index)):\n",
    "        '''if(data.loc[i,\"Open\"]>data.loc[i,\"Close\"]):\n",
    "            v=-1\n",
    "        else:\n",
    "            v=1'''\n",
    "        c.append(data.loc[i,\"Close\"])\n",
    "    print(j)\n",
    "    momentum(c)"
   ]
  },
  {
   "cell_type": "code",
   "execution_count": 9,
   "metadata": {},
   "outputs": [
    {
     "name": "stdout",
     "output_type": "stream",
     "text": [
      "240\n",
      "[92.65767934520946, 100.0, 27.60031678986276, 100.0, 60.859375, 36.77402992645184, 100.0, 100.0, 100.0, 61.2623762376237, 100.0, 36.6560622127953, 100.0, 100.0, 100.0, 100.0, 0.0, 0.0, 0.0, 0.0, 100.0, 49.06344410876177, 27.6996625421822, 91.92964739543874]\n"
     ]
    }
   ],
   "source": [
    "def stochastic_k(l):\n",
    "    max1=0\n",
    "    min1=0\n",
    "    count=0\n",
    "    i=0\n",
    "    k=0\n",
    "    s=[0]*(len(l)//10)\n",
    "    for j in range(len(l)-len(l)%10):\n",
    "        count=count+1\n",
    "        if(count%10==0):\n",
    "            k=k+1\n",
    "        elif((count-1)%10==0):\n",
    "            k=k+1\n",
    "            min1=l[j]\n",
    "            max1=l[j]\n",
    "        if(l[j]>max1):\n",
    "            max1=l[j]\n",
    "        elif(l[j]<min1):\n",
    "            min1=l[j]\n",
    "        if(k%2==0):\n",
    "            s[i]=s[i]+((l[j]-min1)*100/(max1-min1))\n",
    "        if(count%10==0):\n",
    "            i=i+1\n",
    "    print(len(l)-len(l)%10)\n",
    "    print(s)\n",
    "stochastic_k(l)"
   ]
  },
  {
   "cell_type": "code",
   "execution_count": 10,
   "metadata": {},
   "outputs": [
    {
     "name": "stdout",
     "output_type": "stream",
     "text": [
      "2003\n",
      "100.00000000000001\n"
     ]
    }
   ],
   "source": [
    "def stock_k(l):\n",
    "    s=[0]*(len(l)-10)\n",
    "    for j in range(10,len(l)):\n",
    "        a=l[j-9:j+1]\n",
    "        s[j-10]=s[j-10]+((l[j]-min(a))*100/(max(a)-min(a)))\n",
    "    print(max(s))\n",
    "\n",
    "for j in range(2003,2004):\n",
    "    c=[]\n",
    "    o=[]\n",
    "    h=[]\n",
    "    l=[]\n",
    "    data = pd.read_csv(str(j)+\".csv\")\n",
    "    for i in range(len(data.index)):\n",
    "        '''if(data.loc[i,\"Open\"]>data.loc[i,\"Close\"]):\n",
    "            v=-1\n",
    "        else:\n",
    "            v=1'''\n",
    "        c.append(data.loc[i,\"Close\"])\n",
    "        o.append(data.loc[i,\"Open\"])\n",
    "        h.append(data.loc[i,\"High\"])\n",
    "        l.append(data.loc[i,\"Low\"])\n",
    "    print(j)\n",
    "    stock_k(c)"
   ]
  },
  {
   "cell_type": "code",
   "execution_count": 49,
   "metadata": {},
   "outputs": [
    {
     "name": "stdout",
     "output_type": "stream",
     "text": [
      "2018\n",
      "100.0\n",
      "[100.0, 86.22423328305723, 100.0, 100.0, 100.0, 100.0, 100.0, 100.0, 95.96046942557125, 100.0, 81.21874636585645, 69.95758373555688, 63.784301212507934, 0.0, 0.0, 0.0, 0.0, 15.32048340217222, 0.0, 14.259290398520166, 8.022697512003301, 16.113533232493896, 0.0, 0.0, 0.0, 17.117117117117562, 10.302610302610772, 70.58346839546158, 100.0, 87.26372637263681, 59.60846084608474, 44.08190819081926, 0.0, 0.0, 0.0, 20.646591970121143, 16.95845004668527, 62.37161531279158, 68.14546363409164, 75.80097445740415, 67.7132993588687, 15.019255455712072, 0.0, 9.049909801563539, 18.340348767288013, 6.163559831629579, 0.0, 30.923507462686572, 45.07690444471363, 31.938690969345853, 100.0, 100.0, 52.78396436525612, 100.0, 100.0, 100.0, 100.0, 100.0, 100.0, 100.0, 100.0, 100.0, 89.93513755312016, 100.0, 99.32777628394729, 100.0, 100.0, 71.86897880539442, 100.0, 100.0, 100.0, 90.00703729767716, 65.94409583571, 30.91842555618961, 85.8708530805686, 87.23341232227432, 100.0, 79.70137207425249, 100.0, 100.0, 97.47809928324928, 65.2243164321742, 34.21821077780759, 0.0, 0.0, 6.898930665746818, 0.0, 22.19269102990033, 46.458471760797146, 69.52893674293385, 65.30973451327398, 71.23499806426656, 100.0, 86.93590582079824, 64.79725310660567, 53.237410071942335, 76.83310841205571, 100.0, 99.60045662100416, 100.0, 100.0, 100.0, 81.54050464807389, 85.20204894706893, 78.42914058053495, 14.995640802092954, 42.119658119657124, 20.95726495726471, 76.17094017093993, 35.55555555555556, 40.13675213675139, 0.0, 0.0, 53.79162191192219, 29.301825993554846, 47.60472610096639, 77.6799140708912, 69.02255639097729, 100.0, 100.0, 100.0, 100.0, 100.0, 98.82481552336675, 73.2910609341169, 94.45968184311522, 84.36642896324743, 73.61804031131507, 92.3664122137405, 100.0, 100.0, 98.83514813876967, 100.0, 100.0, 100.0, 100.0, 97.4211316975465, 67.71585330638189, 100.0, 100.0, 100.0, 100.0, 100.0, 81.76991150442446, 49.137168141592596, 84.24778761061931, 62.10176991150378, 100.0, 100.0, 100.0, 100.0, 88.70044052863452, 100.0, 100.0, 86.8156740698825, 82.54349978780574, 78.33800186741364, 16.385542168674892, 0.0, 0.0, 22.921047600840787, 42.87899063276618, 0.0, 0.0, 20.966921119592783, 57.938931297710106, 29.923740053050363, 0.0, 0.0, 0.0, 0.0, 18.2639649507121, 15.772179627601217, 1.8528660094924454, 0.0, 17.40442655935584, 0.0, 0.0, 0.0, 4.2077230359518705, 0.0, 21.12919295914993, 0.0, 30.743876429910227, 35.91417307568028, 56.14175753688264, 59.901261656609826, 19.680091402456316, 3.027706369608784, 0.0, 17.79883548350282, 0.0, 0.0, 39.81072555205054, 30.356016223524044, 84.2926368041605, 98.27537857543476, 100.0, 94.45506692160612, 95.60229445506693, 100.0, 97.6776917663619, 70.95000000000027, 96.02500000000009, 89.86005964670774, 100.0, 100.0, 100.0, 61.877667140825274, 41.90967283072511, 15.84281650071104, 52.06258890469424, 67.12444538347796, 85.40038030847272, 100.0, 100.0, 100.0, 96.00840336134453, 71.75070028011194, 20.84033613445368, 32.74946921443771, 0.0, 15.355426258537571, 63.02807993928664, 76.67594232228664, 80.19225904376438, 100.0, 100.0, 100.0, 96.7421948418088, 55.45577947165085, 27.346645940452103, 21.840026333114064, 38.28176431863053, 64.64779460171168, 65.52007899934159]\n",
      "100.0\n",
      "[95.40807776101907, 100.0, 98.65348980852376, 83.72544336713777, 21.261433737502646, 5.106827800724074, 7.427329303507823, 5.3711777441646325, 9.139909139909443, 85.94906492269946, 34.56345634563467, 6.882197323373714, 49.15850966452283, 52.84450975732832, 9.130086189617183, 12.36235576477205, 59.00519847135316, 84.26132145508537, 100.0, 100.0, 96.64504585104005, 99.77592542798243, 90.62299293513148, 96.66901243255904, 60.91112482415607, 88.97826146550894, 99.15936642774976, 33.14750906999393, 2.2996435552489394, 46.06003317787711, 78.84824419251352, 68.32352299978209, 92.14452167768661, 100.0, 81.72389805855926, 26.024187959671597, 50.62108262108229, 17.9305406373074, 51.52882205513748, 89.6741854636591, 100.0, 88.85851943353295, 83.45029382943433, 99.61171604625656, 100.0, 88.37899500130948, 100.0, 93.92330383480815, 65.16224188790522, 100.0, 96.23348017621151, 89.78639128589607, 31.574514678696175, 21.93334607786899, 6.988973706530928, 29.287557116920155, 0.0, 11.963003529268589, 5.8014755197852805, 1.40257434531729, 7.043064319716643, 40.93326901415772, 27.53635314289164, 5.9329451611676065, 23.38891392519153, 94.18933845986508, 96.68578712555768, 88.21756392212076, 96.62001988223591, 67.92911332385013, 45.00995026296108, 95.13346010282424, 89.25303454715215, 17.863268449630464, 51.68648284003695, 93.39741968125479, 84.06599143781987, 29.156145530732232]\n"
     ]
    }
   ],
   "source": [
    "def stock_d(l):\n",
    "    q=[]\n",
    "    s=[0]*(len(l)-10)\n",
    "    for j in range(10,len(l)):\n",
    "        a=l[j-9:j+1]\n",
    "        s[j-10]=s[j-10]+((l[j]-min(a))*100/(max(a)-min(a)))\n",
    "    print(max(s))\n",
    "    print(s)\n",
    "    Q=[0]*3\n",
    "    for j in range(len(s)-len(s)%3):\n",
    "        Q[j%3]=Q[j%3]+s[j]\n",
    "        if((j+1)%3==0):\n",
    "            #Q[j%3]=sum(Q)/3\n",
    "            q.append(sum(Q)/3)\n",
    "            Q=[0]*3\n",
    "    print(max(q))\n",
    "    print(q)\n",
    "\n",
    "for j in range(2018,2019):\n",
    "    c=[]\n",
    "    o=[]\n",
    "    h=[]\n",
    "    l=[]\n",
    "    data = pd.read_csv(str(j)+\".csv\")\n",
    "    for i in range(len(data.index)):\n",
    "        '''if(data.loc[i,\"Open\"]>data.loc[i,\"Close\"]):\n",
    "            v=-1\n",
    "        else:\n",
    "            v=1'''\n",
    "        c.append(data.loc[i,\"Close\"])\n",
    "        o.append(data.loc[i,\"Open\"])\n",
    "        h.append(data.loc[i,\"High\"])\n",
    "        l.append(data.loc[i,\"Low\"])\n",
    "    print(j)\n",
    "    stock_d(c)"
   ]
  },
  {
   "cell_type": "code",
   "execution_count": 53,
   "metadata": {},
   "outputs": [
    {
     "name": "stdout",
     "output_type": "stream",
     "text": [
      "62.60271925892704\n"
     ]
    }
   ],
   "source": [
    "def rsi(c):#c=closing o=opening\n",
    "    rsi1=[]\n",
    "    #for j in range(195,196):\n",
    "    for j in range(14,(len(c)-len(c)%10)):\n",
    "        k1=0\n",
    "        k2=0\n",
    "        up=[]\n",
    "        dw=[]\n",
    "        for i in range(14):\n",
    "            if(c[j-i]>c[j-i-1]):\n",
    "                up.append(c[j-i]-c[j-i-1])\n",
    "                kl=k1+1\n",
    "            else:\n",
    "                dw.append(c[j-i-1]-c[j-i])\n",
    "                k2=k2+1\n",
    "        if(k1==0):\n",
    "            k1=1\n",
    "        elif(k2==0):\n",
    "            k2=1\n",
    "        rsi1.append(100-(100/(1+(sum(up)*k2/(sum(dw)*k1)))))\n",
    "    print(min(rsi1))\n",
    "rsi(c)"
   ]
  },
  {
   "cell_type": "code",
   "execution_count": 4,
   "metadata": {},
   "outputs": [
    {
     "data": {
      "text/html": [
       "<div>\n",
       "<style scoped>\n",
       "    .dataframe tbody tr th:only-of-type {\n",
       "        vertical-align: middle;\n",
       "    }\n",
       "\n",
       "    .dataframe tbody tr th {\n",
       "        vertical-align: top;\n",
       "    }\n",
       "\n",
       "    .dataframe thead th {\n",
       "        text-align: right;\n",
       "    }\n",
       "</style>\n",
       "<table border=\"1\" class=\"dataframe\">\n",
       "  <thead>\n",
       "    <tr style=\"text-align: right;\">\n",
       "      <th></th>\n",
       "      <th>0</th>\n",
       "    </tr>\n",
       "  </thead>\n",
       "  <tbody>\n",
       "    <tr>\n",
       "      <th>0</th>\n",
       "      <td>-1</td>\n",
       "    </tr>\n",
       "    <tr>\n",
       "      <th>1</th>\n",
       "      <td>-1</td>\n",
       "    </tr>\n",
       "    <tr>\n",
       "      <th>2</th>\n",
       "      <td>-1</td>\n",
       "    </tr>\n",
       "    <tr>\n",
       "      <th>3</th>\n",
       "      <td>1</td>\n",
       "    </tr>\n",
       "    <tr>\n",
       "      <th>4</th>\n",
       "      <td>1</td>\n",
       "    </tr>\n",
       "    <tr>\n",
       "      <th>5</th>\n",
       "      <td>1</td>\n",
       "    </tr>\n",
       "    <tr>\n",
       "      <th>6</th>\n",
       "      <td>-1</td>\n",
       "    </tr>\n",
       "    <tr>\n",
       "      <th>7</th>\n",
       "      <td>-1</td>\n",
       "    </tr>\n",
       "    <tr>\n",
       "      <th>8</th>\n",
       "      <td>1</td>\n",
       "    </tr>\n",
       "    <tr>\n",
       "      <th>9</th>\n",
       "      <td>-1</td>\n",
       "    </tr>\n",
       "    <tr>\n",
       "      <th>10</th>\n",
       "      <td>1</td>\n",
       "    </tr>\n",
       "    <tr>\n",
       "      <th>11</th>\n",
       "      <td>-1</td>\n",
       "    </tr>\n",
       "    <tr>\n",
       "      <th>12</th>\n",
       "      <td>1</td>\n",
       "    </tr>\n",
       "    <tr>\n",
       "      <th>13</th>\n",
       "      <td>-1</td>\n",
       "    </tr>\n",
       "    <tr>\n",
       "      <th>14</th>\n",
       "      <td>1</td>\n",
       "    </tr>\n",
       "    <tr>\n",
       "      <th>15</th>\n",
       "      <td>1</td>\n",
       "    </tr>\n",
       "    <tr>\n",
       "      <th>16</th>\n",
       "      <td>1</td>\n",
       "    </tr>\n",
       "    <tr>\n",
       "      <th>17</th>\n",
       "      <td>1</td>\n",
       "    </tr>\n",
       "    <tr>\n",
       "      <th>18</th>\n",
       "      <td>-1</td>\n",
       "    </tr>\n",
       "    <tr>\n",
       "      <th>19</th>\n",
       "      <td>1</td>\n",
       "    </tr>\n",
       "    <tr>\n",
       "      <th>20</th>\n",
       "      <td>-1</td>\n",
       "    </tr>\n",
       "    <tr>\n",
       "      <th>21</th>\n",
       "      <td>1</td>\n",
       "    </tr>\n",
       "    <tr>\n",
       "      <th>22</th>\n",
       "      <td>-1</td>\n",
       "    </tr>\n",
       "    <tr>\n",
       "      <th>23</th>\n",
       "      <td>-1</td>\n",
       "    </tr>\n",
       "    <tr>\n",
       "      <th>24</th>\n",
       "      <td>1</td>\n",
       "    </tr>\n",
       "    <tr>\n",
       "      <th>25</th>\n",
       "      <td>1</td>\n",
       "    </tr>\n",
       "    <tr>\n",
       "      <th>26</th>\n",
       "      <td>-1</td>\n",
       "    </tr>\n",
       "    <tr>\n",
       "      <th>27</th>\n",
       "      <td>1</td>\n",
       "    </tr>\n",
       "    <tr>\n",
       "      <th>28</th>\n",
       "      <td>1</td>\n",
       "    </tr>\n",
       "    <tr>\n",
       "      <th>29</th>\n",
       "      <td>1</td>\n",
       "    </tr>\n",
       "    <tr>\n",
       "      <th>...</th>\n",
       "      <td>...</td>\n",
       "    </tr>\n",
       "    <tr>\n",
       "      <th>216</th>\n",
       "      <td>1</td>\n",
       "    </tr>\n",
       "    <tr>\n",
       "      <th>217</th>\n",
       "      <td>1</td>\n",
       "    </tr>\n",
       "    <tr>\n",
       "      <th>218</th>\n",
       "      <td>-1</td>\n",
       "    </tr>\n",
       "    <tr>\n",
       "      <th>219</th>\n",
       "      <td>-1</td>\n",
       "    </tr>\n",
       "    <tr>\n",
       "      <th>220</th>\n",
       "      <td>-1</td>\n",
       "    </tr>\n",
       "    <tr>\n",
       "      <th>221</th>\n",
       "      <td>1</td>\n",
       "    </tr>\n",
       "    <tr>\n",
       "      <th>222</th>\n",
       "      <td>1</td>\n",
       "    </tr>\n",
       "    <tr>\n",
       "      <th>223</th>\n",
       "      <td>1</td>\n",
       "    </tr>\n",
       "    <tr>\n",
       "      <th>224</th>\n",
       "      <td>1</td>\n",
       "    </tr>\n",
       "    <tr>\n",
       "      <th>225</th>\n",
       "      <td>-1</td>\n",
       "    </tr>\n",
       "    <tr>\n",
       "      <th>226</th>\n",
       "      <td>-1</td>\n",
       "    </tr>\n",
       "    <tr>\n",
       "      <th>227</th>\n",
       "      <td>-1</td>\n",
       "    </tr>\n",
       "    <tr>\n",
       "      <th>228</th>\n",
       "      <td>-1</td>\n",
       "    </tr>\n",
       "    <tr>\n",
       "      <th>229</th>\n",
       "      <td>-1</td>\n",
       "    </tr>\n",
       "    <tr>\n",
       "      <th>230</th>\n",
       "      <td>1</td>\n",
       "    </tr>\n",
       "    <tr>\n",
       "      <th>231</th>\n",
       "      <td>-1</td>\n",
       "    </tr>\n",
       "    <tr>\n",
       "      <th>232</th>\n",
       "      <td>1</td>\n",
       "    </tr>\n",
       "    <tr>\n",
       "      <th>233</th>\n",
       "      <td>1</td>\n",
       "    </tr>\n",
       "    <tr>\n",
       "      <th>234</th>\n",
       "      <td>-1</td>\n",
       "    </tr>\n",
       "    <tr>\n",
       "      <th>235</th>\n",
       "      <td>1</td>\n",
       "    </tr>\n",
       "    <tr>\n",
       "      <th>236</th>\n",
       "      <td>1</td>\n",
       "    </tr>\n",
       "    <tr>\n",
       "      <th>237</th>\n",
       "      <td>1</td>\n",
       "    </tr>\n",
       "    <tr>\n",
       "      <th>238</th>\n",
       "      <td>1</td>\n",
       "    </tr>\n",
       "    <tr>\n",
       "      <th>239</th>\n",
       "      <td>1</td>\n",
       "    </tr>\n",
       "    <tr>\n",
       "      <th>240</th>\n",
       "      <td>-1</td>\n",
       "    </tr>\n",
       "    <tr>\n",
       "      <th>241</th>\n",
       "      <td>-1</td>\n",
       "    </tr>\n",
       "    <tr>\n",
       "      <th>242</th>\n",
       "      <td>1</td>\n",
       "    </tr>\n",
       "    <tr>\n",
       "      <th>243</th>\n",
       "      <td>-1</td>\n",
       "    </tr>\n",
       "    <tr>\n",
       "      <th>244</th>\n",
       "      <td>1</td>\n",
       "    </tr>\n",
       "    <tr>\n",
       "      <th>245</th>\n",
       "      <td>-1</td>\n",
       "    </tr>\n",
       "  </tbody>\n",
       "</table>\n",
       "<p>246 rows × 1 columns</p>\n",
       "</div>"
      ],
      "text/plain": [
       "     0\n",
       "0   -1\n",
       "1   -1\n",
       "2   -1\n",
       "3    1\n",
       "4    1\n",
       "5    1\n",
       "6   -1\n",
       "7   -1\n",
       "8    1\n",
       "9   -1\n",
       "10   1\n",
       "11  -1\n",
       "12   1\n",
       "13  -1\n",
       "14   1\n",
       "15   1\n",
       "16   1\n",
       "17   1\n",
       "18  -1\n",
       "19   1\n",
       "20  -1\n",
       "21   1\n",
       "22  -1\n",
       "23  -1\n",
       "24   1\n",
       "25   1\n",
       "26  -1\n",
       "27   1\n",
       "28   1\n",
       "29   1\n",
       "..  ..\n",
       "216  1\n",
       "217  1\n",
       "218 -1\n",
       "219 -1\n",
       "220 -1\n",
       "221  1\n",
       "222  1\n",
       "223  1\n",
       "224  1\n",
       "225 -1\n",
       "226 -1\n",
       "227 -1\n",
       "228 -1\n",
       "229 -1\n",
       "230  1\n",
       "231 -1\n",
       "232  1\n",
       "233  1\n",
       "234 -1\n",
       "235  1\n",
       "236  1\n",
       "237  1\n",
       "238  1\n",
       "239  1\n",
       "240 -1\n",
       "241 -1\n",
       "242  1\n",
       "243 -1\n",
       "244  1\n",
       "245 -1\n",
       "\n",
       "[246 rows x 1 columns]"
      ]
     },
     "execution_count": 4,
     "metadata": {},
     "output_type": "execute_result"
    }
   ],
   "source": [
    "a=pd.DataFrame(l)\n",
    "a\n"
   ]
  },
  {
   "cell_type": "code",
   "execution_count": 10,
   "metadata": {},
   "outputs": [
    {
     "data": {
      "text/plain": [
       "246"
      ]
     },
     "execution_count": 10,
     "metadata": {},
     "output_type": "execute_result"
    }
   ],
   "source": [
    "len(l)"
   ]
  },
  {
   "cell_type": "code",
   "execution_count": 11,
   "metadata": {},
   "outputs": [
    {
     "data": {
      "text/plain": [
       "115"
      ]
     },
     "execution_count": 11,
     "metadata": {},
     "output_type": "execute_result"
    }
   ],
   "source": [
    "l.count(1)"
   ]
  },
  {
   "cell_type": "code",
   "execution_count": 4,
   "metadata": {},
   "outputs": [],
   "source": [
    "import pandas as pd\n",
    "l_up=[]\n",
    "l_down=[]\n",
    "l_year=[]\n",
    "for j in range(2003,2019):\n",
    "    data = pd.read_csv(str(j)+\".csv\")\n",
    "    l=[]\n",
    "    for i in range(len(data.index)):\n",
    "        if(data.loc[i,\"Open\"]>data.loc[i,\"Close\"]):\n",
    "            v=-1\n",
    "        else:\n",
    "            v=1\n",
    "        l.append(v)\n",
    "    l_up.append(l.count(1))\n",
    "    l_down.append(l.count(-1))\n",
    "    l_year.append(j)\n",
    "df = pd.DataFrame(l_year,columns=[\"Year\"])\n",
    "df.insert(1,\"Up\",l_up, True)\n",
    "df.insert(2,\"Down\",l_down, True)"
   ]
  },
  {
   "cell_type": "code",
   "execution_count": 5,
   "metadata": {},
   "outputs": [
    {
     "data": {
      "text/plain": [
       "0.5"
      ]
     },
     "execution_count": 5,
     "metadata": {},
     "output_type": "execute_result"
    }
   ],
   "source": [
    "5/10"
   ]
  },
  {
   "cell_type": "code",
   "execution_count": 6,
   "metadata": {},
   "outputs": [
    {
     "data": {
      "text/plain": [
       "0"
      ]
     },
     "execution_count": 6,
     "metadata": {},
     "output_type": "execute_result"
    }
   ],
   "source": [
    "5//10"
   ]
  },
  {
   "cell_type": "code",
   "execution_count": 6,
   "metadata": {},
   "outputs": [
    {
     "data": {
      "text/plain": [
       "11"
      ]
     },
     "execution_count": 6,
     "metadata": {},
     "output_type": "execute_result"
    }
   ],
   "source": [
    "11%12"
   ]
  },
  {
   "cell_type": "code",
   "execution_count": 20,
   "metadata": {},
   "outputs": [],
   "source": [
    "k2=[1,2,3,4,5,6]"
   ]
  },
  {
   "cell_type": "code",
   "execution_count": 22,
   "metadata": {},
   "outputs": [
    {
     "data": {
      "text/plain": [
       "[2, 3]"
      ]
     },
     "execution_count": 22,
     "metadata": {},
     "output_type": "execute_result"
    }
   ],
   "source": [
    "k2[1:3]"
   ]
  },
  {
   "cell_type": "code",
   "execution_count": 25,
   "metadata": {},
   "outputs": [
    {
     "data": {
      "text/plain": [
       "0"
      ]
     },
     "execution_count": 25,
     "metadata": {},
     "output_type": "execute_result"
    }
   ],
   "source": [
    "0%2"
   ]
  },
  {
   "cell_type": "code",
   "execution_count": 35,
   "metadata": {},
   "outputs": [
    {
     "data": {
      "text/plain": [
       "1"
      ]
     },
     "execution_count": 35,
     "metadata": {},
     "output_type": "execute_result"
    }
   ],
   "source": [
    "1%3"
   ]
  },
  {
   "cell_type": "code",
   "execution_count": 44,
   "metadata": {},
   "outputs": [
    {
     "data": {
      "text/plain": [
       "0.6666666666666666"
      ]
     },
     "execution_count": 44,
     "metadata": {},
     "output_type": "execute_result"
    }
   ],
   "source": [
    "2/3"
   ]
  },
  {
   "cell_type": "code",
   "execution_count": 54,
   "metadata": {},
   "outputs": [
    {
     "data": {
      "text/plain": [
       "[6.650000000001455,\n",
       " 1.0,\n",
       " 61.599999999998545,\n",
       " 54.05000000000109,\n",
       " 64.75,\n",
       " 13.399999999999636,\n",
       " -4.799999999999272,\n",
       " 19.0,\n",
       " 30.049999999999272,\n",
       " 60.29999999999927,\n",
       " -41.099999999998545,\n",
       " 88.09999999999854,\n",
       " 28.450000000000728]"
      ]
     },
     "execution_count": 54,
     "metadata": {},
     "output_type": "execute_result"
    }
   ],
   "source": [
    "data = pd.read_csv(\"2018.csv\")\n",
    "c=[]\n",
    "o=[]\n",
    "h=[]\n",
    "l=[]\n",
    "s=[]\n",
    "for i in range(len(data.index)):\n",
    "    c.append(data.loc[i,\"Close\"])\n",
    "    o.append(data.loc[i,\"Open\"])\n",
    "    h.append(data.loc[i,\"High\"])\n",
    "    l.append(data.loc[i,\"Low\"])\n",
    "for i in range(1,14):\n",
    "    s.append(c[i]-c[i-1])\n",
    "s"
   ]
  },
  {
   "cell_type": "code",
   "execution_count": null,
   "metadata": {},
   "outputs": [],
   "source": []
  }
 ],
 "metadata": {
  "kernelspec": {
   "display_name": "Python 3",
   "language": "python",
   "name": "python3"
  },
  "language_info": {
   "codemirror_mode": {
    "name": "ipython",
    "version": 3
   },
   "file_extension": ".py",
   "mimetype": "text/x-python",
   "name": "python",
   "nbconvert_exporter": "python",
   "pygments_lexer": "ipython3",
   "version": "3.7.1"
  }
 },
 "nbformat": 4,
 "nbformat_minor": 2
}
